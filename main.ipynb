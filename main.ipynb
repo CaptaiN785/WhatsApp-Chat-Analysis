{
 "cells": [
  {
   "cell_type": "code",
   "execution_count": 1,
   "metadata": {},
   "outputs": [],
   "source": [
    "import pandas as pd\n",
    "import numpy as np\n",
    "import matplotlib.pyplot  as plt\n",
    "import seaborn as sns\n",
    "import emoji\n",
    "import re\n",
    "from collections import Counter\n",
    "from wordcloud import WordCloud, STOPWORDS"
   ]
  },
  {
   "cell_type": "code",
   "execution_count": 2,
   "metadata": {},
   "outputs": [],
   "source": [
    "## Loading chat data\n",
    "file = open(\"chat.txt\")"
   ]
  },
  {
   "cell_type": "code",
   "execution_count": 3,
   "metadata": {},
   "outputs": [],
   "source": [
    "data = file.read()"
   ]
  },
  {
   "cell_type": "code",
   "execution_count": 4,
   "metadata": {},
   "outputs": [],
   "source": [
    "## First have to split the data based on the date and time.\n",
    "## I will use the regex to do so\n",
    "pattern = \"\\d{1,2}/\\d{1,2}/\\d{1,2},\\s\\d{1,2}:\\d{1,2}\\s.M\""
   ]
  },
  {
   "cell_type": "code",
   "execution_count": 5,
   "metadata": {},
   "outputs": [],
   "source": [
    "## Finding the all messages.\n",
    "message = re.split(pattern, data)[1:]\n",
    "## First line is empty string"
   ]
  },
  {
   "cell_type": "code",
   "execution_count": 6,
   "metadata": {},
   "outputs": [],
   "source": [
    "## Now finding the all dates and times\n",
    "dates = re.findall(pattern, data)"
   ]
  },
  {
   "cell_type": "code",
   "execution_count": 7,
   "metadata": {},
   "outputs": [
    {
     "data": {
      "text/plain": [
       "(984, 984)"
      ]
     },
     "execution_count": 7,
     "metadata": {},
     "output_type": "execute_result"
    }
   ],
   "source": [
    "## Checking the size of dates and messges\n",
    "len(dates), len(message)"
   ]
  },
  {
   "cell_type": "code",
   "execution_count": 8,
   "metadata": {},
   "outputs": [],
   "source": [
    "## Not putting both in data frame.\n",
    "df = pd.DataFrame({'date':dates, \"message\":message})"
   ]
  },
  {
   "cell_type": "code",
   "execution_count": 9,
   "metadata": {},
   "outputs": [],
   "source": [
    "# df.shape"
   ]
  },
  {
   "cell_type": "code",
   "execution_count": 10,
   "metadata": {},
   "outputs": [
    {
     "data": {
      "text/html": [
       "<div>\n",
       "<style scoped>\n",
       "    .dataframe tbody tr th:only-of-type {\n",
       "        vertical-align: middle;\n",
       "    }\n",
       "\n",
       "    .dataframe tbody tr th {\n",
       "        vertical-align: top;\n",
       "    }\n",
       "\n",
       "    .dataframe thead th {\n",
       "        text-align: right;\n",
       "    }\n",
       "</style>\n",
       "<table border=\"1\" class=\"dataframe\">\n",
       "  <thead>\n",
       "    <tr style=\"text-align: right;\">\n",
       "      <th></th>\n",
       "      <th>date</th>\n",
       "      <th>message</th>\n",
       "    </tr>\n",
       "  </thead>\n",
       "  <tbody>\n",
       "    <tr>\n",
       "      <th>0</th>\n",
       "      <td>8/10/22, 9:25 AM</td>\n",
       "      <td>- Messages and calls are end-to-end encrypted...</td>\n",
       "    </tr>\n",
       "    <tr>\n",
       "      <th>1</th>\n",
       "      <td>7/21/22, 5:42 AM</td>\n",
       "      <td>- +91 6283 642 395 created group \"20BCS_WM-70...</td>\n",
       "    </tr>\n",
       "    <tr>\n",
       "      <th>2</th>\n",
       "      <td>8/10/22, 9:25 AM</td>\n",
       "      <td>- You joined using this group's invite link\\n</td>\n",
       "    </tr>\n",
       "    <tr>\n",
       "      <th>3</th>\n",
       "      <td>8/11/22, 6:27 PM</td>\n",
       "      <td>- GAZI Abbas Sir Java: Dear all, \\nHard copy ...</td>\n",
       "    </tr>\n",
       "    <tr>\n",
       "      <th>4</th>\n",
       "      <td>8/12/22, 8:41 AM</td>\n",
       "      <td>- +91 80917 73465: Respected All,\\n\\nWith ref...</td>\n",
       "    </tr>\n",
       "  </tbody>\n",
       "</table>\n",
       "</div>"
      ],
      "text/plain": [
       "               date                                            message\n",
       "0  8/10/22, 9:25 AM   - Messages and calls are end-to-end encrypted...\n",
       "1  7/21/22, 5:42 AM   - +91 6283 642 395 created group \"20BCS_WM-70...\n",
       "2  8/10/22, 9:25 AM      - You joined using this group's invite link\\n\n",
       "3  8/11/22, 6:27 PM   - GAZI Abbas Sir Java: Dear all, \\nHard copy ...\n",
       "4  8/12/22, 8:41 AM   - +91 80917 73465: Respected All,\\n\\nWith ref..."
      ]
     },
     "execution_count": 10,
     "metadata": {},
     "output_type": "execute_result"
    }
   ],
   "source": [
    "df.head()"
   ]
  },
  {
   "cell_type": "code",
   "execution_count": 11,
   "metadata": {},
   "outputs": [],
   "source": [
    "## Converting the date columns into date times\n",
    "## Cleaning the date columns\n",
    "df['date'] = pd.to_datetime(df['date'].str.replace(',',''))"
   ]
  },
  {
   "cell_type": "code",
   "execution_count": 12,
   "metadata": {},
   "outputs": [],
   "source": [
    "## Extracting the date and time individually\n",
    "df['year'] = df['date'].dt.year"
   ]
  },
  {
   "cell_type": "code",
   "execution_count": 13,
   "metadata": {},
   "outputs": [],
   "source": [
    "## Extracing the month in the form of month string.\n",
    "df['month'] = df['date'].dt.month_name()"
   ]
  },
  {
   "cell_type": "code",
   "execution_count": 14,
   "metadata": {},
   "outputs": [],
   "source": [
    "## Date\n",
    "df['day'] = df['date'].dt.day\n",
    "df['day_name'] = df['date'].dt.day_name()\n",
    "df['hour'] = df['date'].dt.hour\n",
    "df['minute'] = df['date'].dt.minute"
   ]
  },
  {
   "cell_type": "code",
   "execution_count": 15,
   "metadata": {},
   "outputs": [
    {
     "data": {
      "text/html": [
       "<div>\n",
       "<style scoped>\n",
       "    .dataframe tbody tr th:only-of-type {\n",
       "        vertical-align: middle;\n",
       "    }\n",
       "\n",
       "    .dataframe tbody tr th {\n",
       "        vertical-align: top;\n",
       "    }\n",
       "\n",
       "    .dataframe thead th {\n",
       "        text-align: right;\n",
       "    }\n",
       "</style>\n",
       "<table border=\"1\" class=\"dataframe\">\n",
       "  <thead>\n",
       "    <tr style=\"text-align: right;\">\n",
       "      <th></th>\n",
       "      <th>date</th>\n",
       "      <th>message</th>\n",
       "      <th>year</th>\n",
       "      <th>month</th>\n",
       "      <th>day</th>\n",
       "      <th>day_name</th>\n",
       "      <th>hour</th>\n",
       "      <th>minute</th>\n",
       "    </tr>\n",
       "  </thead>\n",
       "  <tbody>\n",
       "    <tr>\n",
       "      <th>0</th>\n",
       "      <td>2022-08-10 09:25:00</td>\n",
       "      <td>- Messages and calls are end-to-end encrypted...</td>\n",
       "      <td>2022</td>\n",
       "      <td>August</td>\n",
       "      <td>10</td>\n",
       "      <td>Wednesday</td>\n",
       "      <td>9</td>\n",
       "      <td>25</td>\n",
       "    </tr>\n",
       "    <tr>\n",
       "      <th>1</th>\n",
       "      <td>2022-07-21 05:42:00</td>\n",
       "      <td>- +91 6283 642 395 created group \"20BCS_WM-70...</td>\n",
       "      <td>2022</td>\n",
       "      <td>July</td>\n",
       "      <td>21</td>\n",
       "      <td>Thursday</td>\n",
       "      <td>5</td>\n",
       "      <td>42</td>\n",
       "    </tr>\n",
       "    <tr>\n",
       "      <th>2</th>\n",
       "      <td>2022-08-10 09:25:00</td>\n",
       "      <td>- You joined using this group's invite link\\n</td>\n",
       "      <td>2022</td>\n",
       "      <td>August</td>\n",
       "      <td>10</td>\n",
       "      <td>Wednesday</td>\n",
       "      <td>9</td>\n",
       "      <td>25</td>\n",
       "    </tr>\n",
       "    <tr>\n",
       "      <th>3</th>\n",
       "      <td>2022-08-11 18:27:00</td>\n",
       "      <td>- GAZI Abbas Sir Java: Dear all, \\nHard copy ...</td>\n",
       "      <td>2022</td>\n",
       "      <td>August</td>\n",
       "      <td>11</td>\n",
       "      <td>Thursday</td>\n",
       "      <td>18</td>\n",
       "      <td>27</td>\n",
       "    </tr>\n",
       "    <tr>\n",
       "      <th>4</th>\n",
       "      <td>2022-08-12 08:41:00</td>\n",
       "      <td>- +91 80917 73465: Respected All,\\n\\nWith ref...</td>\n",
       "      <td>2022</td>\n",
       "      <td>August</td>\n",
       "      <td>12</td>\n",
       "      <td>Friday</td>\n",
       "      <td>8</td>\n",
       "      <td>41</td>\n",
       "    </tr>\n",
       "  </tbody>\n",
       "</table>\n",
       "</div>"
      ],
      "text/plain": [
       "                 date                                            message  \\\n",
       "0 2022-08-10 09:25:00   - Messages and calls are end-to-end encrypted...   \n",
       "1 2022-07-21 05:42:00   - +91 6283 642 395 created group \"20BCS_WM-70...   \n",
       "2 2022-08-10 09:25:00      - You joined using this group's invite link\\n   \n",
       "3 2022-08-11 18:27:00   - GAZI Abbas Sir Java: Dear all, \\nHard copy ...   \n",
       "4 2022-08-12 08:41:00   - +91 80917 73465: Respected All,\\n\\nWith ref...   \n",
       "\n",
       "   year   month  day   day_name  hour  minute  \n",
       "0  2022  August   10  Wednesday     9      25  \n",
       "1  2022    July   21   Thursday     5      42  \n",
       "2  2022  August   10  Wednesday     9      25  \n",
       "3  2022  August   11   Thursday    18      27  \n",
       "4  2022  August   12     Friday     8      41  "
      ]
     },
     "execution_count": 15,
     "metadata": {},
     "output_type": "execute_result"
    }
   ],
   "source": [
    "## Now splitting the sender and their message respectively\n",
    "df.head()"
   ]
  },
  {
   "cell_type": "code",
   "execution_count": 16,
   "metadata": {},
   "outputs": [
    {
     "name": "stdout",
     "output_type": "stream",
     "text": [
      " - GAZI Abbas Sir Java: Dear all, \n",
      "Hard copy of Lab file is mandatory for the students having physical classes. So kindly instruct the students to maintain hard copy for Lab file. Print outs\n",
      "\n",
      " - You joined using this group's invite link\n",
      "\n",
      " - +91 70189 60040: Open with your university e-mail IDs\n",
      "\n"
     ]
    }
   ],
   "source": [
    "## Now splitting the message with respece to sender and their messages.\n",
    "print(df['message'][3])\n",
    "print(df['message'][2])\n",
    "print(df['message'][40])"
   ]
  },
  {
   "cell_type": "code",
   "execution_count": 17,
   "metadata": {},
   "outputs": [],
   "source": [
    "## Function to find mobile number and names\n",
    "def find_sender(x):\n",
    "    pattern = \"^\\s-\\s([\\w\\s\\d+]+):\"\n",
    "    res = re.search(pattern, x)\n",
    "    if res == None:\n",
    "        return \"\"\n",
    "    else:\n",
    "        return res[1]"
   ]
  },
  {
   "cell_type": "code",
   "execution_count": 18,
   "metadata": {},
   "outputs": [],
   "source": [
    "df['sender'] = df['message'].apply(lambda x : find_sender(x))"
   ]
  },
  {
   "cell_type": "code",
   "execution_count": 19,
   "metadata": {},
   "outputs": [],
   "source": [
    "## The message which have no sender means\n",
    "## they are function message like, group creation, member added\n",
    "## So removing such kind of message\n",
    "indices = df[df['sender'] == \"\"].index\n",
    "df.drop(indices, inplace = True)"
   ]
  },
  {
   "cell_type": "code",
   "execution_count": 20,
   "metadata": {},
   "outputs": [
    {
     "name": "stderr",
     "output_type": "stream",
     "text": [
      "/tmp/ipykernel_18789/3455867216.py:4: FutureWarning: The default value of regex will change from True to False in a future version.\n",
      "  .str.replace('\\\\n','').str.strip().str.lower()\n"
     ]
    }
   ],
   "source": [
    "## Now seperating the text from message\n",
    "pattern = \"^\\s-\\s[\\w\\s\\d+]+:\"\n",
    "df['text'] = df['message'].apply(lambda x : re.split(pattern, x)[1])\\\n",
    "            .str.replace('\\\\n','').str.strip().str.lower()"
   ]
  },
  {
   "cell_type": "code",
   "execution_count": 21,
   "metadata": {},
   "outputs": [],
   "source": [
    "df.drop('message', axis=1, inplace=True)"
   ]
  },
  {
   "cell_type": "code",
   "execution_count": 22,
   "metadata": {},
   "outputs": [
    {
     "data": {
      "text/html": [
       "<div>\n",
       "<style scoped>\n",
       "    .dataframe tbody tr th:only-of-type {\n",
       "        vertical-align: middle;\n",
       "    }\n",
       "\n",
       "    .dataframe tbody tr th {\n",
       "        vertical-align: top;\n",
       "    }\n",
       "\n",
       "    .dataframe thead th {\n",
       "        text-align: right;\n",
       "    }\n",
       "</style>\n",
       "<table border=\"1\" class=\"dataframe\">\n",
       "  <thead>\n",
       "    <tr style=\"text-align: right;\">\n",
       "      <th></th>\n",
       "      <th>date</th>\n",
       "      <th>year</th>\n",
       "      <th>month</th>\n",
       "      <th>day</th>\n",
       "      <th>day_name</th>\n",
       "      <th>hour</th>\n",
       "      <th>minute</th>\n",
       "      <th>sender</th>\n",
       "      <th>text</th>\n",
       "    </tr>\n",
       "  </thead>\n",
       "  <tbody>\n",
       "    <tr>\n",
       "      <th>3</th>\n",
       "      <td>2022-08-11 18:27:00</td>\n",
       "      <td>2022</td>\n",
       "      <td>August</td>\n",
       "      <td>11</td>\n",
       "      <td>Thursday</td>\n",
       "      <td>18</td>\n",
       "      <td>27</td>\n",
       "      <td>GAZI Abbas Sir Java</td>\n",
       "      <td>dear all, hard copy of lab file is mandatory f...</td>\n",
       "    </tr>\n",
       "    <tr>\n",
       "      <th>4</th>\n",
       "      <td>2022-08-12 08:41:00</td>\n",
       "      <td>2022</td>\n",
       "      <td>August</td>\n",
       "      <td>12</td>\n",
       "      <td>Friday</td>\n",
       "      <td>8</td>\n",
       "      <td>41</td>\n",
       "      <td>+91 80917 73465</td>\n",
       "      <td>respected all,with reference to the list recei...</td>\n",
       "    </tr>\n",
       "    <tr>\n",
       "      <th>5</th>\n",
       "      <td>2022-08-12 08:41:00</td>\n",
       "      <td>2022</td>\n",
       "      <td>August</td>\n",
       "      <td>12</td>\n",
       "      <td>Friday</td>\n",
       "      <td>8</td>\n",
       "      <td>41</td>\n",
       "      <td>+91 80917 73465</td>\n",
       "      <td>&lt;media omitted&gt;</td>\n",
       "    </tr>\n",
       "    <tr>\n",
       "      <th>6</th>\n",
       "      <td>2022-08-12 08:41:00</td>\n",
       "      <td>2022</td>\n",
       "      <td>August</td>\n",
       "      <td>12</td>\n",
       "      <td>Friday</td>\n",
       "      <td>8</td>\n",
       "      <td>41</td>\n",
       "      <td>+91 80917 73465</td>\n",
       "      <td>if any student have not got the creditionals f...</td>\n",
       "    </tr>\n",
       "    <tr>\n",
       "      <th>7</th>\n",
       "      <td>2022-08-12 08:41:00</td>\n",
       "      <td>2022</td>\n",
       "      <td>August</td>\n",
       "      <td>12</td>\n",
       "      <td>Friday</td>\n",
       "      <td>8</td>\n",
       "      <td>41</td>\n",
       "      <td>+91 80917 73465</td>\n",
       "      <td>&lt;media omitted&gt;</td>\n",
       "    </tr>\n",
       "  </tbody>\n",
       "</table>\n",
       "</div>"
      ],
      "text/plain": [
       "                 date  year   month  day  day_name  hour  minute  \\\n",
       "3 2022-08-11 18:27:00  2022  August   11  Thursday    18      27   \n",
       "4 2022-08-12 08:41:00  2022  August   12    Friday     8      41   \n",
       "5 2022-08-12 08:41:00  2022  August   12    Friday     8      41   \n",
       "6 2022-08-12 08:41:00  2022  August   12    Friday     8      41   \n",
       "7 2022-08-12 08:41:00  2022  August   12    Friday     8      41   \n",
       "\n",
       "                sender                                               text  \n",
       "3  GAZI Abbas Sir Java  dear all, hard copy of lab file is mandatory f...  \n",
       "4      +91 80917 73465  respected all,with reference to the list recei...  \n",
       "5      +91 80917 73465                                    <media omitted>  \n",
       "6      +91 80917 73465  if any student have not got the creditionals f...  \n",
       "7      +91 80917 73465                                    <media omitted>  "
      ]
     },
     "execution_count": 22,
     "metadata": {},
     "output_type": "execute_result"
    }
   ],
   "source": [
    "df.head()"
   ]
  },
  {
   "cell_type": "code",
   "execution_count": 23,
   "metadata": {},
   "outputs": [],
   "source": [
    "spammer = df[(df['text'] == 'this message was deleted') | (df['text'] == 'you deleted this message')]['sender'].value_counts()"
   ]
  },
  {
   "cell_type": "code",
   "execution_count": 24,
   "metadata": {},
   "outputs": [
    {
     "data": {
      "text/html": [
       "<div>\n",
       "<style scoped>\n",
       "    .dataframe tbody tr th:only-of-type {\n",
       "        vertical-align: middle;\n",
       "    }\n",
       "\n",
       "    .dataframe tbody tr th {\n",
       "        vertical-align: top;\n",
       "    }\n",
       "\n",
       "    .dataframe thead th {\n",
       "        text-align: right;\n",
       "    }\n",
       "</style>\n",
       "<table border=\"1\" class=\"dataframe\">\n",
       "  <thead>\n",
       "    <tr style=\"text-align: right;\">\n",
       "      <th></th>\n",
       "      <th>Sender</th>\n",
       "      <th>Frequency</th>\n",
       "    </tr>\n",
       "  </thead>\n",
       "  <tbody>\n",
       "    <tr>\n",
       "      <th>0</th>\n",
       "      <td>+91 83508 02892</td>\n",
       "      <td>9</td>\n",
       "    </tr>\n",
       "    <tr>\n",
       "      <th>1</th>\n",
       "      <td>+91 6283 339 161</td>\n",
       "      <td>8</td>\n",
       "    </tr>\n",
       "    <tr>\n",
       "      <th>2</th>\n",
       "      <td>+91 89582 48182</td>\n",
       "      <td>7</td>\n",
       "    </tr>\n",
       "    <tr>\n",
       "      <th>3</th>\n",
       "      <td>+91 80917 73465</td>\n",
       "      <td>6</td>\n",
       "    </tr>\n",
       "    <tr>\n",
       "      <th>4</th>\n",
       "      <td>+91 96604 89963</td>\n",
       "      <td>5</td>\n",
       "    </tr>\n",
       "    <tr>\n",
       "      <th>5</th>\n",
       "      <td>GAZI Abbas Sir Java</td>\n",
       "      <td>3</td>\n",
       "    </tr>\n",
       "    <tr>\n",
       "      <th>6</th>\n",
       "      <td>+91 89670 03823</td>\n",
       "      <td>3</td>\n",
       "    </tr>\n",
       "    <tr>\n",
       "      <th>7</th>\n",
       "      <td>+91 89558 55533</td>\n",
       "      <td>2</td>\n",
       "    </tr>\n",
       "    <tr>\n",
       "      <th>8</th>\n",
       "      <td>+91 80530 54548</td>\n",
       "      <td>2</td>\n",
       "    </tr>\n",
       "    <tr>\n",
       "      <th>9</th>\n",
       "      <td>+91 73524 58669</td>\n",
       "      <td>2</td>\n",
       "    </tr>\n",
       "    <tr>\n",
       "      <th>10</th>\n",
       "      <td>+91 90185 62152</td>\n",
       "      <td>2</td>\n",
       "    </tr>\n",
       "    <tr>\n",
       "      <th>11</th>\n",
       "      <td>Utkarsh</td>\n",
       "      <td>2</td>\n",
       "    </tr>\n",
       "    <tr>\n",
       "      <th>12</th>\n",
       "      <td>+91 93232 73308</td>\n",
       "      <td>2</td>\n",
       "    </tr>\n",
       "    <tr>\n",
       "      <th>13</th>\n",
       "      <td>+91 86907 19101</td>\n",
       "      <td>1</td>\n",
       "    </tr>\n",
       "    <tr>\n",
       "      <th>14</th>\n",
       "      <td>Ravi Ranjan cU</td>\n",
       "      <td>1</td>\n",
       "    </tr>\n",
       "    <tr>\n",
       "      <th>15</th>\n",
       "      <td>+91 91255 84437</td>\n",
       "      <td>1</td>\n",
       "    </tr>\n",
       "    <tr>\n",
       "      <th>16</th>\n",
       "      <td>+91 89798 79570</td>\n",
       "      <td>1</td>\n",
       "    </tr>\n",
       "    <tr>\n",
       "      <th>17</th>\n",
       "      <td>Varun</td>\n",
       "      <td>1</td>\n",
       "    </tr>\n",
       "    <tr>\n",
       "      <th>18</th>\n",
       "      <td>+91 90862 74234</td>\n",
       "      <td>1</td>\n",
       "    </tr>\n",
       "    <tr>\n",
       "      <th>19</th>\n",
       "      <td>Cody Harsh</td>\n",
       "      <td>1</td>\n",
       "    </tr>\n",
       "    <tr>\n",
       "      <th>20</th>\n",
       "      <td>+91 93341 66773</td>\n",
       "      <td>1</td>\n",
       "    </tr>\n",
       "    <tr>\n",
       "      <th>21</th>\n",
       "      <td>+91 98882 38772</td>\n",
       "      <td>1</td>\n",
       "    </tr>\n",
       "    <tr>\n",
       "      <th>22</th>\n",
       "      <td>+91 6283 642 395</td>\n",
       "      <td>1</td>\n",
       "    </tr>\n",
       "    <tr>\n",
       "      <th>23</th>\n",
       "      <td>Mukesh</td>\n",
       "      <td>1</td>\n",
       "    </tr>\n",
       "  </tbody>\n",
       "</table>\n",
       "</div>"
      ],
      "text/plain": [
       "                 Sender  Frequency\n",
       "0       +91 83508 02892          9\n",
       "1      +91 6283 339 161          8\n",
       "2       +91 89582 48182          7\n",
       "3       +91 80917 73465          6\n",
       "4       +91 96604 89963          5\n",
       "5   GAZI Abbas Sir Java          3\n",
       "6       +91 89670 03823          3\n",
       "7       +91 89558 55533          2\n",
       "8       +91 80530 54548          2\n",
       "9       +91 73524 58669          2\n",
       "10      +91 90185 62152          2\n",
       "11              Utkarsh          2\n",
       "12      +91 93232 73308          2\n",
       "13      +91 86907 19101          1\n",
       "14       Ravi Ranjan cU          1\n",
       "15      +91 91255 84437          1\n",
       "16      +91 89798 79570          1\n",
       "17                Varun          1\n",
       "18      +91 90862 74234          1\n",
       "19           Cody Harsh          1\n",
       "20      +91 93341 66773          1\n",
       "21      +91 98882 38772          1\n",
       "22     +91 6283 642 395          1\n",
       "23               Mukesh          1"
      ]
     },
     "execution_count": 24,
     "metadata": {},
     "output_type": "execute_result"
    }
   ],
   "source": [
    "spammer.reset_index().rename({\"index\":\"Sender\",\"sender\":\"Frequency\"}, axis=1)"
   ]
  },
  {
   "cell_type": "code",
   "execution_count": 25,
   "metadata": {},
   "outputs": [
    {
     "data": {
      "text/plain": [
       "+91 83508 02892        9\n",
       "+91 6283 339 161       8\n",
       "+91 89582 48182        7\n",
       "+91 80917 73465        6\n",
       "+91 96604 89963        5\n",
       "GAZI Abbas Sir Java    3\n",
       "+91 89670 03823        3\n",
       "+91 89558 55533        2\n",
       "+91 80530 54548        2\n",
       "+91 73524 58669        2\n",
       "Name: sender, dtype: int64"
      ]
     },
     "execution_count": 25,
     "metadata": {},
     "output_type": "execute_result"
    }
   ],
   "source": [
    "spammer.iloc[:10]"
   ]
  },
  {
   "cell_type": "code",
   "execution_count": 26,
   "metadata": {},
   "outputs": [
    {
     "data": {
      "text/plain": [
       "year  month    \n",
       "2022  August       151\n",
       "      September    134\n",
       "      October      113\n",
       "      November     423\n",
       "      December     105\n",
       "dtype: int64"
      ]
     },
     "execution_count": 26,
     "metadata": {},
     "output_type": "execute_result"
    }
   ],
   "source": [
    "import function\n",
    "function.busy_month(df)"
   ]
  },
  {
   "cell_type": "code",
   "execution_count": 35,
   "metadata": {},
   "outputs": [
    {
     "data": {
      "text/plain": [
       "<BarContainer object of 10 artists>"
      ]
     },
     "execution_count": 35,
     "metadata": {},
     "output_type": "execute_result"
    },
    {
     "data": {
      "image/png": "[encoded data removed]",
      "text/plain": [
       "<Figure size 640x480 with 1 Axes>"
      ]
     },
     "metadata": {},
     "output_type": "display_data"
    }
   ],
   "source": []
  },
  {
   "cell_type": "code",
   "execution_count": 33,
   "metadata": {},
   "outputs": [],
   "source": [
    "ten_spammer = spammer.iloc[:10]"
   ]
  },
  {
   "cell_type": "code",
   "execution_count": 34,
   "metadata": {},
   "outputs": [
    {
     "data": {
      "text/html": [
       "<div>\n",
       "<style scoped>\n",
       "    .dataframe tbody tr th:only-of-type {\n",
       "        vertical-align: middle;\n",
       "    }\n",
       "\n",
       "    .dataframe tbody tr th {\n",
       "        vertical-align: top;\n",
       "    }\n",
       "\n",
       "    .dataframe thead th {\n",
       "        text-align: right;\n",
       "    }\n",
       "</style>\n",
       "<table border=\"1\" class=\"dataframe\">\n",
       "  <thead>\n",
       "    <tr style=\"text-align: right;\">\n",
       "      <th></th>\n",
       "      <th>Sender</th>\n",
       "      <th>Frequency</th>\n",
       "    </tr>\n",
       "  </thead>\n",
       "  <tbody>\n",
       "    <tr>\n",
       "      <th>0</th>\n",
       "      <td>+91 83508 02892</td>\n",
       "      <td>9</td>\n",
       "    </tr>\n",
       "    <tr>\n",
       "      <th>1</th>\n",
       "      <td>+91 6283 339 161</td>\n",
       "      <td>8</td>\n",
       "    </tr>\n",
       "    <tr>\n",
       "      <th>2</th>\n",
       "      <td>+91 89582 48182</td>\n",
       "      <td>7</td>\n",
       "    </tr>\n",
       "    <tr>\n",
       "      <th>3</th>\n",
       "      <td>+91 80917 73465</td>\n",
       "      <td>6</td>\n",
       "    </tr>\n",
       "    <tr>\n",
       "      <th>4</th>\n",
       "      <td>+91 96604 89963</td>\n",
       "      <td>5</td>\n",
       "    </tr>\n",
       "    <tr>\n",
       "      <th>5</th>\n",
       "      <td>GAZI Abbas Sir Java</td>\n",
       "      <td>3</td>\n",
       "    </tr>\n",
       "    <tr>\n",
       "      <th>6</th>\n",
       "      <td>+91 89670 03823</td>\n",
       "      <td>3</td>\n",
       "    </tr>\n",
       "    <tr>\n",
       "      <th>7</th>\n",
       "      <td>+91 89558 55533</td>\n",
       "      <td>2</td>\n",
       "    </tr>\n",
       "    <tr>\n",
       "      <th>8</th>\n",
       "      <td>+91 80530 54548</td>\n",
       "      <td>2</td>\n",
       "    </tr>\n",
       "    <tr>\n",
       "      <th>9</th>\n",
       "      <td>+91 73524 58669</td>\n",
       "      <td>2</td>\n",
       "    </tr>\n",
       "  </tbody>\n",
       "</table>\n",
       "</div>"
      ],
      "text/plain": [
       "                Sender  Frequency\n",
       "0      +91 83508 02892          9\n",
       "1     +91 6283 339 161          8\n",
       "2      +91 89582 48182          7\n",
       "3      +91 80917 73465          6\n",
       "4      +91 96604 89963          5\n",
       "5  GAZI Abbas Sir Java          3\n",
       "6      +91 89670 03823          3\n",
       "7      +91 89558 55533          2\n",
       "8      +91 80530 54548          2\n",
       "9      +91 73524 58669          2"
      ]
     },
     "execution_count": 34,
     "metadata": {},
     "output_type": "execute_result"
    }
   ],
   "source": [
    "ten_spammer"
   ]
  },
  {
   "cell_type": "code",
   "execution_count": null,
   "metadata": {},
   "outputs": [],
   "source": []
  }
 ],
 "metadata": {
  "kernelspec": {
   "display_name": "Python 3",
   "language": "python",
   "name": "python3"
  },
  "language_info": {
   "codemirror_mode": {
    "name": "ipython",
    "version": 3
   },
   "file_extension": ".py",
   "mimetype": "text/x-python",
   "name": "python",
   "nbconvert_exporter": "python",
   "pygments_lexer": "ipython3",
   "version": "3.10.6"
  },
  "orig_nbformat": 4,
  "vscode": {
   "interpreter": {
    "hash": "916dbcbb3f70747c44a77c7bcd40155683ae19c65e1c03b4aa3499c5328201f1"
   }
  }
 },
 "nbformat": 4,
 "nbformat_minor": 2
}
